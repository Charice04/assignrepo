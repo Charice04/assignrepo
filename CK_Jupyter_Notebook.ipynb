{
  "metadata": {
    "language_info": {
      "codemirror_mode": {
        "name": "python",
        "version": 3
      },
      "file_extension": ".py",
      "mimetype": "text/x-python",
      "name": "python",
      "nbconvert_exporter": "python",
      "pygments_lexer": "ipython3",
      "version": "3.8"
    },
    "kernelspec": {
      "name": "python",
      "display_name": "Pyolite",
      "language": "python"
    }
  },
  "nbformat_minor": 4,
  "nbformat": 4,
  "cells": [
    {
      "cell_type": "markdown",
      "source": "# My Jupyter Notebook on IBM Watson Studio",
      "metadata": {}
    },
    {
      "cell_type": "markdown",
      "source": "**Clareen Kunedzimwe** \nA graduate of Midlands State University pursuing Data Science.",
      "metadata": {}
    },
    {
      "cell_type": "markdown",
      "source": "_I am interested in data science because i intend to gain an extensive array of skills thereby leveraging data to assist firms with their business strategies._\n_I also have a passion for solving problems by processing and analyzing data hence a degree in Information Systems._",
      "metadata": {}
    },
    {
      "cell_type": "markdown",
      "source": "### The following code adds two numbers",
      "metadata": {}
    },
    {
      "cell_type": "code",
      "source": "x = 1\ny = 2\nprint (x + y)",
      "metadata": {
        "trusted": true
      },
      "execution_count": 2,
      "outputs": [
        {
          "name": "stdout",
          "text": "3\n",
          "output_type": "stream"
        }
      ]
    },
    {
      "cell_type": "markdown",
      "source": "-  cat\n-  mat\n-  sat\n\n1. cat\n1. mat\n1. sat\n\n***\n\n<http://www.ibm.com>\n\n~~strikethrough~~\n",
      "metadata": {}
    }
  ]
}